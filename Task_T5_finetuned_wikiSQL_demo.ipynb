{
  "nbformat": 4,
  "nbformat_minor": 0,
  "metadata": {
    "colab": {
      "provenance": []
    },
    "kernelspec": {
      "name": "python3",
      "display_name": "Python 3"
    }
  },
  "cells": [
    {
      "cell_type": "markdown",
      "metadata": {
        "id": "DNfJouEBetCw"
      },
      "source": [
        "# T5 fine-tuned on WikiSQL for English to SQL translation and SQL to English\n"
      ]
    },
    {
      "cell_type": "markdown",
      "metadata": {
        "id": "qsqn5in3fQkD"
      },
      "source": [
        "## English to SQL"
      ]
    },
    {
      "cell_type": "code",
      "metadata": {
        "id": "oQ22jnK9SOQA",
        "colab": {
          "base_uri": "https://localhost:8080/",
          "height": 105
        },
        "outputId": "19ca4008-7b7b-45a1-87ea-af4c75c5d4a9"
      },
      "source": [
        "from transformers import AutoModelWithLMHead, AutoTokenizer\n",
        "\n",
        "tokenizer = AutoTokenizer.from_pretrained(\"mrm8488/t5-small-finetuned-wikiSQL\")\n",
        "model = AutoModelWithLMHead.from_pretrained(\"mrm8488/t5-small-finetuned-wikiSQL\")\n",
        "\n",
        "def get_sql(query):\n",
        "  input_text = \"translante English to SQL: %s </s>\" % query\n",
        "  features = tokenizer([input_text], return_tensors='pt')\n",
        "\n",
        "  output = model.generate(input_ids=features['input_ids'],\n",
        "               attention_mask=features['attention_mask'])\n",
        "\n",
        "  return tokenizer.decode(output[0])\n",
        "\n",
        "query = \"Find out opportunity name which has invoicePrice between 5000 and 10000 in tblOPPERTUNITIESTest table\"\n",
        "\n",
        "get_sql(query)"
      ],
      "execution_count": 7,
      "outputs": [
        {
          "output_type": "stream",
          "name": "stderr",
          "text": [
            "The `xla_device` argument has been deprecated in v4.4.0 of Transformers. It is ignored and you can safely remove it from your `config.json` file.\n",
            "The `xla_device` argument has been deprecated in v4.4.0 of Transformers. It is ignored and you can safely remove it from your `config.json` file.\n",
            "The `xla_device` argument has been deprecated in v4.4.0 of Transformers. It is ignored and you can safely remove it from your `config.json` file.\n",
            "The `xla_device` argument has been deprecated in v4.4.0 of Transformers. It is ignored and you can safely remove it from your `config.json` file.\n"
          ]
        },
        {
          "output_type": "execute_result",
          "data": {
            "text/plain": [
              "'<pad> SELECT Opportunity name FROM table WHERE invoicePrice between 5000 and 10000'"
            ],
            "application/vnd.google.colaboratory.intrinsic+json": {
              "type": "string"
            }
          },
          "metadata": {},
          "execution_count": 7
        }
      ]
    },
    {
      "cell_type": "code",
      "metadata": {
        "id": "4Hr-X1v6bIvQ"
      },
      "source": [],
      "execution_count": null,
      "outputs": []
    }
  ]
}